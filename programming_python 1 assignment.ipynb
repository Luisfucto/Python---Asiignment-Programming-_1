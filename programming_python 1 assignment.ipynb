{
 "cells": [
  {
   "cell_type": "markdown",
   "metadata": {},
   "source": [
    "## 1. Create a program that when given a word tells us whether it is a Palindrome or not:"
   ]
  },
  {
   "cell_type": "code",
   "execution_count": null,
   "metadata": {},
   "outputs": [],
   "source": [
    "def palindrome(text):\n",
    "        if text==text[::-1]:\n",
    "                print (\"your text is a Palindrome\")\n",
    "        else:\n",
    "                print (\"your text is not a Palindrome\")\n",
    "        return;\n",
    "\n",
    "while True:\n",
    "        text = input(\"Give me a text:\")\n",
    "        palindrome(text)\n",
    "        \n",
    "        answer = input(\"do you want to keep figuring out Palindromes?\")\n",
    "        if answer == \"no\":\n",
    "                break"
   ]
  },
  {
   "cell_type": "markdown",
   "metadata": {},
   "source": [
    "## 2. Create a program that when given a number tells us the sum of its integers:"
   ]
  },
  {
   "cell_type": "code",
   "execution_count": 2,
   "metadata": {},
   "outputs": [
    {
     "name": "stdout",
     "output_type": "stream",
     "text": [
      "Give me a number: 45\n",
      "The sum of square roots of integers up to 45 is 204.39854497785348\n",
      "Type a key45\n"
     ]
    },
    {
     "data": {
      "text/plain": [
       "'45'"
      ]
     },
     "execution_count": 2,
     "metadata": {},
     "output_type": "execute_result"
    }
   ],
   "source": [
    "\n",
    "import math\n",
    "\n",
    "def sum_sqrt(N):\n",
    "    tot = 0\n",
    "    for i in range(1,N+1):\n",
    "        tot += math.sqrt(i)\n",
    "    return tot\n",
    "\n",
    "\n",
    "# Main program\n",
    "q = int(input(\"Give me a number: \"))\n",
    "print(\"The sum of square roots of\",\n",
    "      \"integers up to\",q,\"is\",sum_sqrt(q))\n",
    "\n",
    "input(\"Type a key\")"
   ]
  },
  {
   "cell_type": "markdown",
   "metadata": {},
   "source": [
    "## 3. Create a program that when given a number tells us the sum of its odds:"
   ]
  },
  {
   "cell_type": "code",
   "execution_count": null,
   "metadata": {},
   "outputs": [
    {
     "name": "stdout",
     "output_type": "stream",
     "text": [
      "Give me a number: 45\n",
      "the sum of the squared “odd” numbers between 1 and 45 is: 16215\n"
     ]
    }
   ],
   "source": [
    "while True:\n",
    "    number = int(input(\"Give me a number: \"))\n",
    "\n",
    "    tot=0\n",
    "    for i in range(1, number+1, 2):\n",
    "        tot += i*i\n",
    "\n",
    "    print(\"the sum of the squared “odd” numbers between 1 and\", number, \"is:\", tot)\n",
    "    ask = input(\"Do you want to print a new sum of squared numbers?\")\n",
    "    if ask == \"no\":\n",
    "        break"
   ]
  },
  {
   "cell_type": "code",
   "execution_count": null,
   "metadata": {},
   "outputs": [],
   "source": []
  }
 ],
 "metadata": {
  "kernelspec": {
   "display_name": "Python 3",
   "language": "python",
   "name": "python3"
  },
  "language_info": {
   "codemirror_mode": {
    "name": "ipython",
    "version": 3
   },
   "file_extension": ".py",
   "mimetype": "text/x-python",
   "name": "python",
   "nbconvert_exporter": "python",
   "pygments_lexer": "ipython3",
   "version": "3.8.5"
  }
 },
 "nbformat": 4,
 "nbformat_minor": 4
}
